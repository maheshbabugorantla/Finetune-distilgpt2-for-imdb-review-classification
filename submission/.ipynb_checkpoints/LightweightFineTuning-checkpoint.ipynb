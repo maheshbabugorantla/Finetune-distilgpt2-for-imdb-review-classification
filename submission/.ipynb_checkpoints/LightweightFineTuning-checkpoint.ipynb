{
 "cells": [
  {
   "cell_type": "markdown",
   "id": "f35354cd",
   "metadata": {},
   "source": [
    "# Lightweight Fine-Tuning Project"
   ]
  },
  {
   "cell_type": "markdown",
   "id": "560fb3ff",
   "metadata": {},
   "source": [
    "TODO: In this cell, describe your choices for each of the following\n",
    "\n",
    "* PEFT technique: `Low Rank Adaptation (LoRA)`\n",
    "* Model: `distilbert/distilgpt2`\n",
    "* Evaluation approach: `F1 Score` \n",
    "* Fine-tuning dataset: `stanfordnlp/imdb` dataset"
   ]
  },
  {
   "cell_type": "markdown",
   "id": "de8d76bb",
   "metadata": {},
   "source": [
    "## Loading and Evaluating a Foundation Model\n",
    "\n",
    "TODO: In the cells below, load your chosen pre-trained Hugging Face model and evaluate its performance prior to fine-tuning. This step includes loading an appropriate tokenizer and dataset."
   ]
  },
  {
   "cell_type": "code",
   "execution_count": 26,
   "id": "f551c63a",
   "metadata": {},
   "outputs": [],
   "source": [
    "from typing import Tuple, Dict, List, Callable\n",
    "\n",
    "from torch import cuda as torch_cuda, device as torch_device\n",
    "from datasets import Dataset, load_dataset\n",
    "from transformers import (\n",
    "    AutoTokenizer,\n",
    "    AutoModelForSequenceClassification,\n",
    "    DataCollatorWithPadding,\n",
    "    Trainer,\n",
    "    TrainingArguments,\n",
    "    EvalPrediction\n",
    ")\n",
    "from peft import LoraConfig, TaskType, PeftModel, get_peft_model, AutoPeftModelForSequenceClassification\n",
    "# from tqdm import tqdm"
   ]
  },
  {
   "cell_type": "code",
   "execution_count": 2,
   "id": "4935cb4d",
   "metadata": {},
   "outputs": [],
   "source": [
    "def __get_device() -> torch_device:\n",
    "    if torch_cuda.is_available():\n",
    "        return torch_device(\"cuda\")\n",
    "    return torch_device(\"cpu\")"
   ]
  },
  {
   "cell_type": "code",
   "execution_count": 3,
   "id": "f28c4a78",
   "metadata": {},
   "outputs": [],
   "source": [
    "DEVICE = __get_device()"
   ]
  },
  {
   "cell_type": "code",
   "execution_count": 4,
   "id": "019b9f55",
   "metadata": {},
   "outputs": [],
   "source": [
    "def load_tokenizer_and_model(\n",
    "    model_name: str,\n",
    "    id2label: Dict[int, str],\n",
    "    label2id: Dict[str, int],\n",
    "    num_labels: int,\n",
    ") -> Tuple[AutoTokenizer, AutoModelForSequenceClassification]:\n",
    "    tokenizer = AutoTokenizer.from_pretrained(model_name)\n",
    "    # Set padding token if not defined\n",
    "    if tokenizer.pad_token is None:\n",
    "        tokenizer.pad_token = tokenizer.eos_token\n",
    "    model = (\n",
    "        AutoModelForSequenceClassification.from_pretrained(\n",
    "            model_name,\n",
    "            num_labels=num_labels,\n",
    "            id2label=id2label,\n",
    "            label2id=label2id,\n",
    "        )\n",
    "    )\n",
    "    if model.config.pad_token_id is None:\n",
    "        model.config.pad_token_id = tokenizer.pad_token_id\n",
    "    model.to(DEVICE)\n",
    "    return tokenizer, model"
   ]
  },
  {
   "cell_type": "code",
   "execution_count": 5,
   "id": "5176b07f",
   "metadata": {},
   "outputs": [
    {
     "data": {
      "application/vnd.jupyter.widget-view+json": {
       "model_id": "ace23f6162e843709378e64d02bc2751",
       "version_major": 2,
       "version_minor": 0
      },
      "text/plain": [
       "tokenizer_config.json:   0%|          | 0.00/26.0 [00:00<?, ?B/s]"
      ]
     },
     "metadata": {},
     "output_type": "display_data"
    },
    {
     "data": {
      "application/vnd.jupyter.widget-view+json": {
       "model_id": "3323e7acc3944bc59b6098ea68e2e51d",
       "version_major": 2,
       "version_minor": 0
      },
      "text/plain": [
       "config.json:   0%|          | 0.00/762 [00:00<?, ?B/s]"
      ]
     },
     "metadata": {},
     "output_type": "display_data"
    },
    {
     "data": {
      "application/vnd.jupyter.widget-view+json": {
       "model_id": "bfb1ecebe5424bd7b1b78a14f37aaa9f",
       "version_major": 2,
       "version_minor": 0
      },
      "text/plain": [
       "vocab.json:   0%|          | 0.00/1.04M [00:00<?, ?B/s]"
      ]
     },
     "metadata": {},
     "output_type": "display_data"
    },
    {
     "data": {
      "application/vnd.jupyter.widget-view+json": {
       "model_id": "af00fe2b4f944394b7b339f13d71f8c4",
       "version_major": 2,
       "version_minor": 0
      },
      "text/plain": [
       "merges.txt:   0%|          | 0.00/456k [00:00<?, ?B/s]"
      ]
     },
     "metadata": {},
     "output_type": "display_data"
    },
    {
     "data": {
      "application/vnd.jupyter.widget-view+json": {
       "model_id": "cae1b566e6c84629bfb1fb63c1d03b03",
       "version_major": 2,
       "version_minor": 0
      },
      "text/plain": [
       "tokenizer.json:   0%|          | 0.00/1.36M [00:00<?, ?B/s]"
      ]
     },
     "metadata": {},
     "output_type": "display_data"
    },
    {
     "data": {
      "application/vnd.jupyter.widget-view+json": {
       "model_id": "c032eac8124d4f2c91a1e68a016d0b10",
       "version_major": 2,
       "version_minor": 0
      },
      "text/plain": [
       "model.safetensors:   0%|          | 0.00/353M [00:00<?, ?B/s]"
      ]
     },
     "metadata": {},
     "output_type": "display_data"
    },
    {
     "name": "stderr",
     "output_type": "stream",
     "text": [
      "Some weights of GPT2ForSequenceClassification were not initialized from the model checkpoint at distilbert/distilgpt2 and are newly initialized: ['score.weight']\n",
      "You should probably TRAIN this model on a down-stream task to be able to use it for predictions and inference.\n"
     ]
    }
   ],
   "source": [
    "# model_name = \"gpt2\"\n",
    "model_name = \"distilbert/distilgpt2\"\n",
    "id_to_label = {0: \"negative\", 1: \"positive\"}\n",
    "label_to_id = {\"negative\": 0, \"positive\": 1}\n",
    "\n",
    "tokenizer, model = load_tokenizer_and_model(model_name=model_name, id2label=id_to_label, label2id=label_to_id, num_labels=2)"
   ]
  },
  {
   "cell_type": "markdown",
   "id": "8b12450c",
   "metadata": {},
   "source": [
    "### Load the Imdb dataset to classify Imdb reviews"
   ]
  },
  {
   "cell_type": "code",
   "execution_count": 6,
   "id": "606bc538",
   "metadata": {},
   "outputs": [
    {
     "data": {
      "application/vnd.jupyter.widget-view+json": {
       "model_id": "5db879cf621748b398f0d775af58dde0",
       "version_major": 2,
       "version_minor": 0
      },
      "text/plain": [
       "Downloading readme:   0%|          | 0.00/7.81k [00:00<?, ?B/s]"
      ]
     },
     "metadata": {},
     "output_type": "display_data"
    },
    {
     "name": "stderr",
     "output_type": "stream",
     "text": [
      "Downloading data: 100%|██████████| 21.0M/21.0M [00:01<00:00, 20.8MB/s]\n",
      "Downloading data: 100%|██████████| 20.5M/20.5M [00:00<00:00, 27.4MB/s]\n",
      "Downloading data: 100%|██████████| 42.0M/42.0M [00:01<00:00, 31.7MB/s]\n"
     ]
    },
    {
     "data": {
      "application/vnd.jupyter.widget-view+json": {
       "model_id": "25210f918a0b44a99fc0fcd93e7a40a7",
       "version_major": 2,
       "version_minor": 0
      },
      "text/plain": [
       "Generating train split:   0%|          | 0/25000 [00:00<?, ? examples/s]"
      ]
     },
     "metadata": {},
     "output_type": "display_data"
    },
    {
     "data": {
      "application/vnd.jupyter.widget-view+json": {
       "model_id": "882bb197f809416d8fa9a9816b669da9",
       "version_major": 2,
       "version_minor": 0
      },
      "text/plain": [
       "Generating test split:   0%|          | 0/25000 [00:00<?, ? examples/s]"
      ]
     },
     "metadata": {},
     "output_type": "display_data"
    },
    {
     "data": {
      "application/vnd.jupyter.widget-view+json": {
       "model_id": "79dd730bb8144acea1b551e570db2b18",
       "version_major": 2,
       "version_minor": 0
      },
      "text/plain": [
       "Generating unsupervised split:   0%|          | 0/50000 [00:00<?, ? examples/s]"
      ]
     },
     "metadata": {},
     "output_type": "display_data"
    }
   ],
   "source": [
    "dataset_name = \"imdb\"\n",
    "dataset = load_dataset(dataset_name)"
   ]
  },
  {
   "cell_type": "code",
   "execution_count": 7,
   "id": "bfc77fb1",
   "metadata": {},
   "outputs": [
    {
     "data": {
      "application/vnd.jupyter.widget-view+json": {
       "model_id": "a51a04c04d0d4582bf77c7c6aca074be",
       "version_major": 2,
       "version_minor": 0
      },
      "text/plain": [
       "Filter:   0%|          | 0/25000 [00:00<?, ? examples/s]"
      ]
     },
     "metadata": {},
     "output_type": "display_data"
    },
    {
     "data": {
      "application/vnd.jupyter.widget-view+json": {
       "model_id": "4152653d13d141cabaecb387fbff0900",
       "version_major": 2,
       "version_minor": 0
      },
      "text/plain": [
       "Map:   0%|          | 0/25000 [00:00<?, ? examples/s]"
      ]
     },
     "metadata": {},
     "output_type": "display_data"
    },
    {
     "data": {
      "application/vnd.jupyter.widget-view+json": {
       "model_id": "52a6a798d26e4ee393270b14b7e1acf5",
       "version_major": 2,
       "version_minor": 0
      },
      "text/plain": [
       "Filter:   0%|          | 0/25000 [00:00<?, ? examples/s]"
      ]
     },
     "metadata": {},
     "output_type": "display_data"
    },
    {
     "data": {
      "application/vnd.jupyter.widget-view+json": {
       "model_id": "a636d193bd1940d8b4f61b93f71da552",
       "version_major": 2,
       "version_minor": 0
      },
      "text/plain": [
       "Map:   0%|          | 0/25000 [00:00<?, ? examples/s]"
      ]
     },
     "metadata": {},
     "output_type": "display_data"
    }
   ],
   "source": [
    "def get_tokenized_dataset(\n",
    "    dataset: Dataset,\n",
    "    tokenizer: AutoTokenizer,\n",
    "    splits: List[str] = [\"train\", \"validation\", \"test\"],\n",
    "    text_column_name: str = \"text\",\n",
    ") -> Dict[str, Dataset]:\n",
    "    tokenized_datasets: Dict[str, Dataset] = {}\n",
    "    if tokenizer.pad_token is None:\n",
    "        tokenizer.pad_token = tokenizer.eos_token\n",
    "    for split in splits:\n",
    "        filtered_dataset = dataset[split].filter(lambda x: len(x[text_column_name]) > 0)\n",
    "        tokenized_datasets[split] = filtered_dataset.map(\n",
    "            lambda x: tokenizer(\n",
    "                x[text_column_name],\n",
    "                truncation=True,\n",
    "                padding=True,\n",
    "                return_tensors=\"pt\",\n",
    "            ).to(DEVICE),\n",
    "            batched=True,\n",
    "        )\n",
    "    return tokenized_datasets\n",
    "\n",
    "\n",
    "splits = [\"train\", \"test\"]\n",
    "text_column_name = \"text\"\n",
    "tokenized_dataset = get_tokenized_dataset(dataset, tokenizer, splits, text_column_name)"
   ]
  },
  {
   "cell_type": "code",
   "execution_count": 8,
   "id": "b832baaf",
   "metadata": {},
   "outputs": [],
   "source": [
    "def get_peft_config(\n",
    "    r: int,\n",
    "    lora_alpha: int,\n",
    "    lora_dropout: float,\n",
    ") -> LoraConfig:\n",
    "    return LoraConfig(\n",
    "        task_type=TaskType.SEQ_CLS,\n",
    "        r=r,\n",
    "        lora_alpha=lora_alpha,\n",
    "        lora_dropout=lora_dropout,\n",
    "        inference_mode=False,\n",
    "    )\n",
    "\n",
    "\n",
    "# Rank 4 is conservative choice, works well for Memory Efficiency\n",
    "# (Started with Rank 8 and kept running into Out Of GPU Memory type errors)\n",
    "# And, also since `distilbert/distilgpt2` is smaller model, Rank = 4 is good choice to avoid overfitting\n",
    "peft_lora_rank = 4\n",
    "peft_lora_alpha = 16\n",
    "\n",
    "# A dropout rate of 0.2 is a good choice that offers sufficient regularization on small datasets like IMDb.\n",
    "# It is a good choice given that the IMDb dataset is both noisy and small\n",
    "peft_lora_dropout = 0.2\n",
    "peft_config = get_peft_config(\n",
    "    r=peft_lora_rank,\n",
    "    lora_alpha=peft_lora_alpha,\n",
    "    lora_dropout=peft_lora_dropout,\n",
    ")"
   ]
  },
  {
   "cell_type": "code",
   "execution_count": 9,
   "id": "df7e2d07",
   "metadata": {},
   "outputs": [
    {
     "name": "stderr",
     "output_type": "stream",
     "text": [
      "/opt/conda/lib/python3.10/site-packages/peft/tuners/lora.py:475: UserWarning: fan_in_fan_out is set to False but the target module is `Conv1D`. Setting fan_in_fan_out to True.\n",
      "  warnings.warn(\n"
     ]
    }
   ],
   "source": [
    "def get_peft_model_for_text_classification(\n",
    "    model: AutoModelForSequenceClassification,\n",
    "    peft_config: LoraConfig,\n",
    ") -> PeftModel:\n",
    "    return get_peft_model(model, peft_config)\n",
    "\n",
    "peft_model = get_peft_model_for_text_classification(model, peft_config)"
   ]
  },
  {
   "cell_type": "code",
   "execution_count": 10,
   "id": "6c841a35",
   "metadata": {},
   "outputs": [],
   "source": [
    "def get_data_collator(tokenizer: AutoTokenizer) -> DataCollatorWithPadding:\n",
    "    return DataCollatorWithPadding(tokenizer=tokenizer)\n",
    "\n",
    "data_collator = get_data_collator(tokenizer=tokenizer)"
   ]
  },
  {
   "cell_type": "code",
   "execution_count": 11,
   "id": "6443cc29",
   "metadata": {},
   "outputs": [],
   "source": [
    "def get_training_args(\n",
    "    output_dir: str = \"./results\",\n",
    "    evaluation_strategy: str = \"epoch\",\n",
    "    num_train_epochs: int = 256,\n",
    "    per_device_train_batch_size: int = 16,\n",
    "    per_device_eval_batch_size: int = 16,\n",
    "    weight_decay: float = 0.01,\n",
    "    learning_rate: float = 5e-5,\n",
    "    lr_scheduler_type: str = \"cosine\",\n",
    "    logging_strategy: str = \"epoch\",\n",
    "    save_strategy: str = \"epoch\",\n",
    "    load_best_model_at_end: bool = True,\n",
    "    push_to_hub: bool = False,\n",
    "    # Add these parameters to reduce memory usage\n",
    "    gradient_accumulation_steps: int = 4,\n",
    "    gradient_checkpointing: bool = True,\n",
    "    max_grad_norm: float = 1.0,\n",
    "    fp16: bool = True,\n",
    ") -> TrainingArguments:\n",
    "    return TrainingArguments(\n",
    "        output_dir=output_dir,\n",
    "        evaluation_strategy=evaluation_strategy,\n",
    "        learning_rate=learning_rate,\n",
    "        per_device_train_batch_size=per_device_train_batch_size,\n",
    "        per_device_eval_batch_size=per_device_eval_batch_size,\n",
    "        num_train_epochs=num_train_epochs,\n",
    "        weight_decay=weight_decay,\n",
    "        lr_scheduler_type=lr_scheduler_type,\n",
    "        logging_strategy=logging_strategy,\n",
    "        save_strategy=save_strategy,\n",
    "        load_best_model_at_end=load_best_model_at_end,\n",
    "        push_to_hub=push_to_hub,\n",
    "        gradient_accumulation_steps=gradient_accumulation_steps,\n",
    "        gradient_checkpointing=gradient_checkpointing,\n",
    "        max_grad_norm=max_grad_norm,\n",
    "        fp16=fp16\n",
    "    )\n",
    "\n",
    "\n",
    "output_dir = \"distilgpt2-imdb-lora\"\n",
    "num_train_epochs = 8\n",
    "per_device_train_batch_size = 2\n",
    "per_device_eval_batch_size = 2\n",
    "weight_decay = 0.01\n",
    "learning_rate = 5e-4\n",
    "\n",
    "training_args = get_training_args(\n",
    "    output_dir=output_dir,\n",
    "    num_train_epochs=num_train_epochs,\n",
    "    per_device_train_batch_size=per_device_train_batch_size,\n",
    "    per_device_eval_batch_size=per_device_eval_batch_size,\n",
    "    weight_decay=weight_decay,\n",
    "    learning_rate=learning_rate,\n",
    "    # These parameters to reduce memory usage\n",
    "    gradient_accumulation_steps=4,\n",
    "    gradient_checkpointing=True,\n",
    "    max_grad_norm=0.1,\n",
    "    fp16=True\n",
    ")"
   ]
  },
  {
   "cell_type": "markdown",
   "id": "4d52a229",
   "metadata": {},
   "source": [
    "## Performing Parameter-Efficient Fine-Tuning\n",
    "\n",
    "TODO: In the cells below, create a PEFT model from your loaded model, run a training loop, and save the PEFT model weights."
   ]
  },
  {
   "cell_type": "code",
   "execution_count": 12,
   "id": "5775fadf",
   "metadata": {},
   "outputs": [
    {
     "name": "stderr",
     "output_type": "stream",
     "text": [
      "You're using a GPT2TokenizerFast tokenizer. Please note that with a fast tokenizer, using the `__call__` method is faster than using a method to encode the text followed by a call to the `pad` method to get a padded encoding.\n",
      "`use_cache=True` is incompatible with gradient checkpointing. Setting `use_cache=False`...\n",
      "/opt/conda/lib/python3.10/site-packages/torch/utils/checkpoint.py:31: UserWarning: None of the inputs have requires_grad=True. Gradients will be None\n",
      "  warnings.warn(\"None of the inputs have requires_grad=True. Gradients will be None\")\n"
     ]
    },
    {
     "data": {
      "text/html": [
       "\n",
       "    <div>\n",
       "      \n",
       "      <progress value='25000' max='25000' style='width:300px; height:20px; vertical-align: middle;'></progress>\n",
       "      [25000/25000 3:22:27, Epoch 8/8]\n",
       "    </div>\n",
       "    <table border=\"1\" class=\"dataframe\">\n",
       "  <thead>\n",
       " <tr style=\"text-align: left;\">\n",
       "      <th>Epoch</th>\n",
       "      <th>Training Loss</th>\n",
       "      <th>Validation Loss</th>\n",
       "      <th>Accuracy</th>\n",
       "    </tr>\n",
       "  </thead>\n",
       "  <tbody>\n",
       "    <tr>\n",
       "      <td>1</td>\n",
       "      <td>0.444700</td>\n",
       "      <td>0.375420</td>\n",
       "      <td>0.836280</td>\n",
       "    </tr>\n",
       "    <tr>\n",
       "      <td>2</td>\n",
       "      <td>0.396900</td>\n",
       "      <td>0.392367</td>\n",
       "      <td>0.831360</td>\n",
       "    </tr>\n",
       "    <tr>\n",
       "      <td>3</td>\n",
       "      <td>0.383700</td>\n",
       "      <td>0.359086</td>\n",
       "      <td>0.847120</td>\n",
       "    </tr>\n",
       "    <tr>\n",
       "      <td>4</td>\n",
       "      <td>0.377700</td>\n",
       "      <td>0.355682</td>\n",
       "      <td>0.847400</td>\n",
       "    </tr>\n",
       "    <tr>\n",
       "      <td>5</td>\n",
       "      <td>0.371800</td>\n",
       "      <td>0.349587</td>\n",
       "      <td>0.851560</td>\n",
       "    </tr>\n",
       "    <tr>\n",
       "      <td>6</td>\n",
       "      <td>0.368000</td>\n",
       "      <td>0.353182</td>\n",
       "      <td>0.851080</td>\n",
       "    </tr>\n",
       "    <tr>\n",
       "      <td>7</td>\n",
       "      <td>0.361300</td>\n",
       "      <td>0.348453</td>\n",
       "      <td>0.852120</td>\n",
       "    </tr>\n",
       "    <tr>\n",
       "      <td>8</td>\n",
       "      <td>0.362100</td>\n",
       "      <td>0.350054</td>\n",
       "      <td>0.852520</td>\n",
       "    </tr>\n",
       "  </tbody>\n",
       "</table><p>"
      ],
      "text/plain": [
       "<IPython.core.display.HTML object>"
      ]
     },
     "metadata": {},
     "output_type": "display_data"
    },
    {
     "name": "stderr",
     "output_type": "stream",
     "text": [
      "Checkpoint destination directory gpt2-imdb-lora/checkpoint-3125 already exists and is non-empty.Saving will proceed but saved results may be invalid.\n",
      "/opt/conda/lib/python3.10/site-packages/torch/utils/checkpoint.py:31: UserWarning: None of the inputs have requires_grad=True. Gradients will be None\n",
      "  warnings.warn(\"None of the inputs have requires_grad=True. Gradients will be None\")\n",
      "/opt/conda/lib/python3.10/site-packages/torch/utils/checkpoint.py:31: UserWarning: None of the inputs have requires_grad=True. Gradients will be None\n",
      "  warnings.warn(\"None of the inputs have requires_grad=True. Gradients will be None\")\n",
      "/opt/conda/lib/python3.10/site-packages/torch/utils/checkpoint.py:31: UserWarning: None of the inputs have requires_grad=True. Gradients will be None\n",
      "  warnings.warn(\"None of the inputs have requires_grad=True. Gradients will be None\")\n",
      "/opt/conda/lib/python3.10/site-packages/torch/utils/checkpoint.py:31: UserWarning: None of the inputs have requires_grad=True. Gradients will be None\n",
      "  warnings.warn(\"None of the inputs have requires_grad=True. Gradients will be None\")\n",
      "/opt/conda/lib/python3.10/site-packages/torch/utils/checkpoint.py:31: UserWarning: None of the inputs have requires_grad=True. Gradients will be None\n",
      "  warnings.warn(\"None of the inputs have requires_grad=True. Gradients will be None\")\n",
      "/opt/conda/lib/python3.10/site-packages/torch/utils/checkpoint.py:31: UserWarning: None of the inputs have requires_grad=True. Gradients will be None\n",
      "  warnings.warn(\"None of the inputs have requires_grad=True. Gradients will be None\")\n",
      "/opt/conda/lib/python3.10/site-packages/torch/utils/checkpoint.py:31: UserWarning: None of the inputs have requires_grad=True. Gradients will be None\n",
      "  warnings.warn(\"None of the inputs have requires_grad=True. Gradients will be None\")\n"
     ]
    }
   ],
   "source": [
    "import numpy as np\n",
    "\n",
    "\n",
    "def compute_metrics(p: EvalPrediction) -> Dict[str, float]:\n",
    "    preds = p.predictions[0] if isinstance(p.predictions, tuple) else p.predictions\n",
    "    preds = np.argmax(preds, axis=1)\n",
    "    return {\"accuracy\": (preds == p.label_ids).mean()}\n",
    "\n",
    "\n",
    "def fine_tune_model_using_peft(\n",
    "    model: PeftModel,\n",
    "    tokenizer: AutoTokenizer,\n",
    "    train_dataset: Dataset,\n",
    "    eval_dataset: Dataset,\n",
    "    training_args: TrainingArguments,\n",
    "    data_collator: DataCollatorWithPadding,\n",
    "    compute_metrics: Callable[[EvalPrediction], Dict[str, float]],\n",
    "    save_model: bool = True,\n",
    ") -> None:\n",
    "    model.to(DEVICE)\n",
    "    trainer = Trainer(\n",
    "        model=model,\n",
    "        args=training_args,\n",
    "        train_dataset=train_dataset,\n",
    "        eval_dataset=eval_dataset,\n",
    "        tokenizer=tokenizer,\n",
    "        data_collator=data_collator,\n",
    "        compute_metrics=compute_metrics,\n",
    "    )\n",
    "\n",
    "    # Fine-tune the model\n",
    "    trainer.train()\n",
    "\n",
    "    # Save the model and tokenizer\n",
    "    if save_model:\n",
    "        model.save_pretrained(training_args.output_dir)\n",
    "        tokenizer.save_pretrained(training_args.output_dir)\n",
    "\n",
    "\n",
    "fine_tune_model_using_peft(\n",
    "    peft_model,\n",
    "    tokenizer,\n",
    "    train_dataset=tokenized_dataset[\"train\"],\n",
    "    eval_dataset=tokenized_dataset[\"test\"],\n",
    "    training_args=training_args,\n",
    "    data_collator=data_collator,\n",
    "    compute_metrics=compute_metrics,\n",
    "    save_model=True,\n",
    ")"
   ]
  },
  {
   "cell_type": "markdown",
   "id": "615b12c6",
   "metadata": {},
   "source": [
    "## Performing Inference with a PEFT Model\n",
    "\n",
    "TODO: In the cells below, load the saved PEFT model weights and evaluate the performance of the trained PEFT model. Be sure to compare the results to the results from prior to fine-tuning."
   ]
  },
  {
   "cell_type": "markdown",
   "id": "57454882",
   "metadata": {},
   "source": [
    "### **Evaluate the performance on the Baseline `distilbert/distilgpt2` Model**"
   ]
  },
  {
   "cell_type": "code",
   "execution_count": 15,
   "id": "bc3a8147",
   "metadata": {},
   "outputs": [],
   "source": [
    "# Load the Traning\n",
    "baseline_training_args = get_training_args(output_dir=\"./distilbert_distilgpt2_baseline\")"
   ]
  },
  {
   "cell_type": "code",
   "execution_count": 16,
   "id": "bc96905a",
   "metadata": {},
   "outputs": [],
   "source": [
    "def get_model_trainer(\n",
    "    tokenizer: AutoTokenizer,\n",
    "    model: AutoModelForSequenceClassification,\n",
    "    tokenized_datasets: Dict[str, Dataset],\n",
    "    training_args: TrainingArguments,\n",
    ") -> Trainer:\n",
    "    # Move model to underlying available gpu\n",
    "    model.to(DEVICE)\n",
    "\n",
    "    data_collator = DataCollatorWithPadding(tokenizer=tokenizer)\n",
    "    trainer = Trainer(\n",
    "        model=model,\n",
    "        args=training_args,\n",
    "        train_dataset=tokenized_datasets[\"train\"],\n",
    "        eval_dataset=tokenized_datasets[\"test\"],\n",
    "        tokenizer=tokenizer,\n",
    "        data_collator=data_collator,\n",
    "        compute_metrics=compute_metrics,\n",
    "    )\n",
    "    return trainer"
   ]
  },
  {
   "cell_type": "code",
   "execution_count": 20,
   "id": "866ab28c",
   "metadata": {},
   "outputs": [
    {
     "name": "stderr",
     "output_type": "stream",
     "text": [
      "Some weights of GPT2ForSequenceClassification were not initialized from the model checkpoint at distilbert/distilgpt2 and are newly initialized: ['score.weight']\n",
      "You should probably TRAIN this model on a down-stream task to be able to use it for predictions and inference.\n"
     ]
    }
   ],
   "source": [
    "baseline_tokenizer, baseline_model = load_tokenizer_and_model(\n",
    "    model_name=model_name,\n",
    "    label2id=label_to_id,\n",
    "    id2label=id_to_label,\n",
    "    num_labels=len(label_to_id)\n",
    ")\n",
    "baseline_trainer = get_model_trainer(\n",
    "    tokenizer=baseline_tokenizer,\n",
    "    model=baseline_model,\n",
    "    tokenized_datasets=tokenized_dataset,\n",
    "    training_args=baseline_training_args\n",
    ")"
   ]
  },
  {
   "cell_type": "code",
   "execution_count": 19,
   "id": "f9a32e4e",
   "metadata": {},
   "outputs": [],
   "source": [
    "from pandas import DataFrame\n",
    "\n",
    "def get_predictions(\n",
    "    test_dataset: Dataset,\n",
    "    trainer: Trainer,\n",
    "    text_column_name: str = \"text\",\n",
    ") -> DataFrame:\n",
    "    results = trainer.predict(test_dataset)\n",
    "    df = DataFrame(\n",
    "        {\n",
    "            \"text\": [item[text_column_name] for item in test_dataset],\n",
    "            \"predictions\": results.predictions.argmax(axis=1),\n",
    "            \"labels\": results.label_ids,\n",
    "        }\n",
    "    )\n",
    "    return df"
   ]
  },
  {
   "cell_type": "code",
   "execution_count": 38,
   "id": "d327681a",
   "metadata": {},
   "outputs": [
    {
     "data": {
      "text/html": [],
      "text/plain": [
       "<IPython.core.display.HTML object>"
      ]
     },
     "metadata": {},
     "output_type": "display_data"
    }
   ],
   "source": [
    "baseline_model_review_classifications = get_predictions(tokenized_dataset[\"test\"], trainer=baseline_trainer, text_column_name=\"text\")"
   ]
  },
  {
   "cell_type": "code",
   "execution_count": 39,
   "id": "67db9ef2",
   "metadata": {},
   "outputs": [
    {
     "name": "stdout",
     "output_type": "stream",
     "text": [
      "Baseline Model 'distilbert/distilgpt2' Sequence Classification Accuracy on 'imdb' is 50.00%\n"
     ]
    }
   ],
   "source": [
    "# Calculate accuracy\n",
    "baseline_model_classification_accuracy = (baseline_model_review_classifications[\"predictions\"] == baseline_model_review_classifications[\"labels\"]).mean()\n",
    "print(f\"Baseline Model '{model_name}' Sequence Classification Accuracy on '{dataset_name}' is {baseline_model_classification_accuracy:0.2%}\")"
   ]
  },
  {
   "cell_type": "markdown",
   "id": "04247f3f",
   "metadata": {},
   "source": [
    "### **Load and Perform the inference on the LoRA Fine-tuned `distilbert/distilgpt2` model**"
   ]
  },
  {
   "cell_type": "code",
   "execution_count": 35,
   "id": "a38b3142",
   "metadata": {},
   "outputs": [
    {
     "name": "stderr",
     "output_type": "stream",
     "text": [
      "Some weights of GPT2ForSequenceClassification were not initialized from the model checkpoint at distilbert/distilgpt2 and are newly initialized: ['score.weight']\n",
      "You should probably TRAIN this model on a down-stream task to be able to use it for predictions and inference.\n"
     ]
    }
   ],
   "source": [
    "def load_peft_model_from_checkpoint(\n",
    "    output_dir: str,\n",
    "    id_to_label: Dict[int, str],\n",
    "    label_to_id: Dict[str, int],\n",
    ") -> AutoPeftModelForSequenceClassification:\n",
    "    model = AutoPeftModelForSequenceClassification.from_pretrained(\n",
    "        output_dir,\n",
    "        id2label=id_to_label,\n",
    "        label2id=label_to_id,\n",
    "        num_labels=len(id_to_label)\n",
    "    )\n",
    "    model.to(DEVICE)\n",
    "    return model\n",
    "\n",
    "def load_tokenizer_from_checkpoint(output_dir: str) -> AutoTokenizer:\n",
    "    tokenizer = AutoTokenizer.from_pretrained(output_dir)\n",
    "    if tokenizer.pad_token is None:\n",
    "        tokenizer.pad_token = tokenizer.eos_token\n",
    "    return tokenizer\n",
    "\n",
    "\n",
    "def load_trainer_from_checkpoint(\n",
    "    output_dir: str,\n",
    "    tokenized_datasets: Dict[str, Dataset],\n",
    "    id_to_label: Dict[int, str],\n",
    "    label_to_id: Dict[str, int]\n",
    ") -> Tuple[Dict[str, Dataset], AutoTokenizer, AutoModelForSequenceClassification, TrainingArguments, Trainer]:\n",
    "    model = load_peft_model_from_checkpoint(\n",
    "        output_dir, id_to_label=id_to_label, label_to_id=label_to_id\n",
    "    )\n",
    "    tokenizer = load_tokenizer_from_checkpoint(output_dir)\n",
    "    if model.config.pad_token_id is None:\n",
    "        model.config.pad_token_id = tokenizer.pad_token_id\n",
    "    training_args = get_training_args(output_dir)   \n",
    "    trainer = get_model_trainer(\n",
    "        tokenizer, model, tokenized_datasets, training_args\n",
    "    )\n",
    "    return tokenizer, model, training_args, trainer\n",
    "\n",
    "\n",
    "new_tokenizer, lora_ft_model, lora_ft_training_args, lora_trainer = load_trainer_from_checkpoint(\n",
    "    output_dir=\"gpt2-imdb-lora\", tokenized_datasets=tokenized_dataset, id_to_label=id_to_label, label_to_id=label_to_id\n",
    ")"
   ]
  },
  {
   "cell_type": "code",
   "execution_count": 36,
   "id": "400c37c8",
   "metadata": {},
   "outputs": [
    {
     "name": "stderr",
     "output_type": "stream",
     "text": [
      "You're using a GPT2TokenizerFast tokenizer. Please note that with a fast tokenizer, using the `__call__` method is faster than using a method to encode the text followed by a call to the `pad` method to get a padded encoding.\n"
     ]
    },
    {
     "data": {
      "text/html": [],
      "text/plain": [
       "<IPython.core.display.HTML object>"
      ]
     },
     "metadata": {},
     "output_type": "display_data"
    }
   ],
   "source": [
    "finetuned_model_review_classifications = get_predictions(tokenized_dataset[\"test\"], trainer=lora_trainer, text_column_name=\"text\")"
   ]
  },
  {
   "cell_type": "code",
   "execution_count": 37,
   "id": "dac49716",
   "metadata": {},
   "outputs": [
    {
     "name": "stdout",
     "output_type": "stream",
     "text": [
      "LoRA Finetuned Model 'gpt2-imdb-lora' Sequence Classification Accuracy on 'imdb' is 85.20%\n"
     ]
    }
   ],
   "source": [
    "# Calculate accuracy\n",
    "lora_finetuned_model_classification_accuracy = (finetuned_model_review_classifications[\"predictions\"] == finetuned_model_review_classifications[\"labels\"]).mean()\n",
    "print(f\"LoRA Finetuned Model '{output_dir}' Sequence Classification Accuracy on '{dataset_name}' is {lora_finetuned_model_classification_accuracy:0.2%}\")"
   ]
  },
  {
   "cell_type": "markdown",
   "id": "1f2ed5f7",
   "metadata": {},
   "source": [
    "### **Summary of the Results**\n",
    "\n",
    "Dataset Name: [`imdb`](https://huggingface.co/datasets/stanfordnlp/imdb)\n",
    "\n",
    "Model Chosen for Sequence Classification is `distilbert/distilgpt2`\n",
    "\n",
    "Baseline Classification Accuracy on `imdb (test)` dataset is ~`50%`\n",
    "\n",
    "The baseline model `distilbert/distilgpt2` is fine-tuned using PEFT LoRA with parameters `Rank (r)` = `4`, `LoRA Alpha (lora_alpha)` = `16` and `LoRA Dropout (lora_dropout)` = `0.2` on the `imdb` dataset for `8` epochs\n",
    "\n",
    "Fine-tuned Model Classification Accuracy on `imdb (test)` dataset is `85.2%`"
   ]
  },
  {
   "cell_type": "code",
   "execution_count": 42,
   "id": "f2c36daa",
   "metadata": {},
   "outputs": [
    {
     "name": "stderr",
     "output_type": "stream",
     "text": [
      "huggingface/tokenizers: The current process just got forked, after parallelism has already been used. Disabling parallelism to avoid deadlocks...\n",
      "To disable this warning, you can either:\n",
      "\t- Avoid using `tokenizers` before the fork if possible\n",
      "\t- Explicitly set the environment variable TOKENIZERS_PARALLELISM=(true | false)\n"
     ]
    },
    {
     "name": "stdout",
     "output_type": "stream",
     "text": [
      "Defaulting to user installation because normal site-packages is not writeable\n",
      "Collecting scikit-learn\n",
      "  Downloading scikit_learn-1.5.2-cp310-cp310-manylinux_2_17_x86_64.manylinux2014_x86_64.whl (13.3 MB)\n",
      "\u001b[2K     \u001b[90m━━━━━━━━━━━━━━━━━━━━━━━━━━━━━━━━━━━━━━━━\u001b[0m \u001b[32m13.3/13.3 MB\u001b[0m \u001b[31m72.1 MB/s\u001b[0m eta \u001b[36m0:00:00\u001b[0m00:01\u001b[0m00:01\u001b[0m\n",
      "\u001b[?25hCollecting seaborn\n",
      "  Downloading seaborn-0.13.2-py3-none-any.whl (294 kB)\n",
      "\u001b[2K     \u001b[90m━━━━━━━━━━━━━━━━━━━━━━━━━━━━━━━━━━━━━━\u001b[0m \u001b[32m294.9/294.9 kB\u001b[0m \u001b[31m36.9 MB/s\u001b[0m eta \u001b[36m0:00:00\u001b[0m\n",
      "\u001b[?25hRequirement already satisfied: matplotlib in /home/student/.local/lib/python3.10/site-packages (3.8.3)\n",
      "Requirement already satisfied: scipy>=1.6.0 in /opt/conda/lib/python3.10/site-packages (from scikit-learn) (1.11.2)\n",
      "Requirement already satisfied: numpy>=1.19.5 in /home/student/.local/lib/python3.10/site-packages (from scikit-learn) (1.26.4)\n",
      "Collecting joblib>=1.2.0\n",
      "  Downloading joblib-1.4.2-py3-none-any.whl (301 kB)\n",
      "\u001b[2K     \u001b[90m━━━━━━━━━━━━━━━━━━━━━━━━━━━━━━━━━━━━━━\u001b[0m \u001b[32m301.8/301.8 kB\u001b[0m \u001b[31m37.4 MB/s\u001b[0m eta \u001b[36m0:00:00\u001b[0m\n",
      "\u001b[?25hCollecting threadpoolctl>=3.1.0\n",
      "  Downloading threadpoolctl-3.5.0-py3-none-any.whl (18 kB)\n",
      "Requirement already satisfied: pandas>=1.2 in /home/student/.local/lib/python3.10/site-packages (from seaborn) (2.2.1)\n",
      "Requirement already satisfied: cycler>=0.10 in /home/student/.local/lib/python3.10/site-packages (from matplotlib) (0.12.1)\n",
      "Requirement already satisfied: packaging>=20.0 in /home/student/.local/lib/python3.10/site-packages (from matplotlib) (24.0)\n",
      "Requirement already satisfied: pyparsing>=2.3.1 in /home/student/.local/lib/python3.10/site-packages (from matplotlib) (3.1.2)\n",
      "Requirement already satisfied: fonttools>=4.22.0 in /home/student/.local/lib/python3.10/site-packages (from matplotlib) (4.49.0)\n",
      "Requirement already satisfied: python-dateutil>=2.7 in /home/student/.local/lib/python3.10/site-packages (from matplotlib) (2.9.0.post0)\n",
      "Requirement already satisfied: pillow>=8 in /home/student/.local/lib/python3.10/site-packages (from matplotlib) (10.2.0)\n",
      "Requirement already satisfied: kiwisolver>=1.3.1 in /home/student/.local/lib/python3.10/site-packages (from matplotlib) (1.4.5)\n",
      "Requirement already satisfied: contourpy>=1.0.1 in /home/student/.local/lib/python3.10/site-packages (from matplotlib) (1.2.0)\n",
      "Requirement already satisfied: tzdata>=2022.7 in /home/student/.local/lib/python3.10/site-packages (from pandas>=1.2->seaborn) (2024.1)\n",
      "Requirement already satisfied: pytz>=2020.1 in /home/student/.local/lib/python3.10/site-packages (from pandas>=1.2->seaborn) (2024.1)\n",
      "Requirement already satisfied: six>=1.5 in /home/student/.local/lib/python3.10/site-packages (from python-dateutil>=2.7->matplotlib) (1.16.0)\n",
      "Installing collected packages: threadpoolctl, joblib, scikit-learn, seaborn\n",
      "Successfully installed joblib-1.4.2 scikit-learn-1.5.2 seaborn-0.13.2 threadpoolctl-3.5.0\n"
     ]
    }
   ],
   "source": [
    "!pip install scikit-learn seaborn matplotlib"
   ]
  },
  {
   "cell_type": "code",
   "execution_count": 43,
   "id": "d0aadfed",
   "metadata": {},
   "outputs": [],
   "source": [
    "from sklearn.metrics import classification_report, confusion_matrix\n",
    "import seaborn as sns\n",
    "import matplotlib.pyplot as plt\n",
    "\n",
    "\n",
    "def evaluate_predictions(predictions_df: Da, label2id: Dict[str, int]) -> None:\n",
    "    # Calculate classification report\n",
    "    report = classification_report(\n",
    "        predictions_df[\"labels\"],\n",
    "        predictions_df[\"predictions\"],\n",
    "        target_names=list(label2id.keys()),\n",
    "        digits=4\n",
    "    )\n",
    "    \n",
    "    # Calculate confusion matrix\n",
    "    cm = confusion_matrix(predictions_df[\"labels\"], predictions_df[\"predictions\"])\n",
    "    \n",
    "    # Print classification report\n",
    "    print(\"Classification Report:\")\n",
    "    print(report)\n",
    "    \n",
    "    # Plot confusion matrix\n",
    "    plt.figure(figsize=(10, 8))\n",
    "    sns.heatmap(\n",
    "        cm,\n",
    "        annot=True,\n",
    "        fmt='d',\n",
    "        cmap='Blues',\n",
    "        xticklabels=list(label2id.keys()),\n",
    "        yticklabels=list(label2id.keys())\n",
    "    )\n",
    "    plt.title('Confusion Matrix')\n",
    "    plt.ylabel('True Label')\n",
    "    plt.xlabel('Predicted Label')\n",
    "    plt.tight_layout()\n",
    "    plt.show()"
   ]
  },
  {
   "cell_type": "code",
   "execution_count": 44,
   "id": "db2472de",
   "metadata": {},
   "outputs": [
    {
     "name": "stdout",
     "output_type": "stream",
     "text": [
      "Classification Report:\n",
      "              precision    recall  f1-score   support\n",
      "\n",
      "    negative     0.5000    0.9997    0.6666     12500\n",
      "    positive     0.5556    0.0004    0.0008     12500\n",
      "\n",
      "    accuracy                         0.5000     25000\n",
      "   macro avg     0.5278    0.5000    0.3337     25000\n",
      "weighted avg     0.5278    0.5000    0.3337     25000\n",
      "\n"
     ]
    },
    {
     "data": {
      "image/png": "[encoded data removed]",
      "text/plain": [
       "<Figure size 1000x800 with 2 Axes>"
      ]
     },
     "metadata": {},
     "output_type": "display_data"
    }
   ],
   "source": [
    "evaluate_predictions(predictions_df=baseline_model_review_classifications, label2id=label_to_id)"
   ]
  },
  {
   "cell_type": "code",
   "execution_count": 45,
   "id": "20a3e823",
   "metadata": {},
   "outputs": [
    {
     "name": "stdout",
     "output_type": "stream",
     "text": [
      "Classification Report:\n",
      "              precision    recall  f1-score   support\n",
      "\n",
      "    negative     0.8528    0.8509    0.8518     12500\n",
      "    positive     0.8512    0.8531    0.8522     12500\n",
      "\n",
      "    accuracy                         0.8520     25000\n",
      "   macro avg     0.8520    0.8520    0.8520     25000\n",
      "weighted avg     0.8520    0.8520    0.8520     25000\n",
      "\n"
     ]
    },
    {
     "data": {
      "image/png": "[encoded data removed]",
      "text/plain": [
       "<Figure size 1000x800 with 2 Axes>"
      ]
     },
     "metadata": {},
     "output_type": "display_data"
    }
   ],
   "source": [
    "evaluate_predictions(predictions_df=finetuned_model_review_classifications, label2id=label_to_id)"
   ]
  },
  {
   "cell_type": "code",
   "execution_count": null,
   "id": "93694500",
   "metadata": {},
   "outputs": [],
   "source": []
  }
 ],
 "metadata": {
  "kernelspec": {
   "display_name": "Python 3 (ipykernel)",
   "language": "python",
   "name": "python3"
  },
  "language_info": {
   "codemirror_mode": {
    "name": "ipython",
    "version": 3
   },
   "file_extension": ".py",
   "mimetype": "text/x-python",
   "name": "python",
   "nbconvert_exporter": "python",
   "pygments_lexer": "ipython3",
   "version": "3.12.3"
  }
 },
 "nbformat": 4,
 "nbformat_minor": 5
}
