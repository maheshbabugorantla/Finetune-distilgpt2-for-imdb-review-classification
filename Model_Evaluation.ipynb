{
 "cells": [
  {
   "cell_type": "markdown",
   "id": "ac13085c-71a0-44cd-b180-94be5c418b62",
   "metadata": {},
   "source": [
    "# **Evaluate Baseline Models and Finetuned models on Cuda GPU (with 16-bit mixed precision) and Local Macbook (MPS) Accelerator**"
   ]
  },
  {
   "cell_type": "markdown",
   "id": "c1b6520a-d4e2-4259-afd0-40b7cc0fd680",
   "metadata": {},
   "source": [
    "**Baseline Model**: [`distilbert/distilgpt2`](https://huggingface.co/distilbert/distilgpt2)\n",
    "\n",
    "**Task Type**: Sequence Classification\n",
    "\n",
    "**Fine-tuning Technique**: LoRA PEFT\n",
    "\n",
    "**Dataset**: [`stanfordnlp/imdb`](https://huggingface.co/datasets/stanfordnlp/imdb)\n",
    "\n",
    "Classify IMDb review using the `stanford/imdb` dataset from HuggingFace\n",
    "\n",
    "## **Hardware Used for Training**\n",
    "\n",
    "### **CUDA GPU Specs**\n",
    "\n",
    "* **Number of CUDA devices**: `1`\n",
    "* **Current CUDA device**: `0`\n",
    "* **Device name**: `Tesla T4`\n",
    "* **Device properties**:\n",
    "    * name: `Tesla T4`\n",
    "    * major: `7`\n",
    "    * minor: `5`\n",
    "    * total_memory: `14917MB (~14.9 GB)`\n",
    "    * multi_processor_count: `40`\n",
    "\n",
    "### **Apple MPS Specs**\n",
    "* **Chipset**: `Apple M2 Max`\n",
    "* **# Cores**: `30`\n",
    "* **Metal Support**: `Metal 3`\n",
    "* **Memory**: `upto 32 GB` (shared unified memory - shared between CPU and GPU)\n",
    "The maximum memory allocated to the GPU depends on the workload but can be substantial, given the unified memory architecture"
   ]
  },
  {
   "cell_type": "code",
   "execution_count": 1,
   "id": "39585c44-50da-419c-a470-89bec7d9e1fd",
   "metadata": {},
   "outputs": [],
   "source": [
    "from lora_peft.sequence_classification import __get_device"
   ]
  },
  {
   "cell_type": "code",
   "execution_count": 2,
   "id": "0dff2e9e-9752-4906-8343-04905d5b7ce2",
   "metadata": {},
   "outputs": [],
   "source": [
    "DEVICE = __get_device()"
   ]
  },
  {
   "cell_type": "code",
   "execution_count": 3,
   "id": "83656a8f-a1b9-46fe-92ce-d1cbb53653c4",
   "metadata": {},
   "outputs": [
    {
     "data": {
      "text/plain": [
       "device(type='mps')"
      ]
     },
     "execution_count": 3,
     "metadata": {},
     "output_type": "execute_result"
    }
   ],
   "source": [
    "DEVICE"
   ]
  },
  {
   "cell_type": "markdown",
   "id": "1efa8704-054f-4933-8c64-c2600bb21729",
   "metadata": {},
   "source": [
    "## **Load the `distilbert/distilgpt2` Tokenizer and Model**"
   ]
  },
  {
   "cell_type": "code",
   "execution_count": 4,
   "id": "f80b2c21-dbfd-423f-bd3d-45fa27edaa77",
   "metadata": {},
   "outputs": [],
   "source": [
    "from lora_peft.sequence_classification import load_dataset, load_tokenizer_and_model"
   ]
  },
  {
   "cell_type": "code",
   "execution_count": 5,
   "id": "a2b74a55-86d5-480e-ae64-7c8593ff8e33",
   "metadata": {},
   "outputs": [
    {
     "data": {
      "text/plain": [
       "DatasetDict({\n",
       "    train: Dataset({\n",
       "        features: ['text', 'label'],\n",
       "        num_rows: 25000\n",
       "    })\n",
       "    test: Dataset({\n",
       "        features: ['text', 'label'],\n",
       "        num_rows: 25000\n",
       "    })\n",
       "    unsupervised: Dataset({\n",
       "        features: ['text', 'label'],\n",
       "        num_rows: 50000\n",
       "    })\n",
       "})"
      ]
     },
     "execution_count": 5,
     "metadata": {},
     "output_type": "execute_result"
    }
   ],
   "source": [
    "dataset = load_dataset(\"imdb\")\n",
    "dataset"
   ]
  },
  {
   "cell_type": "code",
   "execution_count": 6,
   "id": "2e3954a2-4550-45fc-a470-7b281820398d",
   "metadata": {},
   "outputs": [
    {
     "data": {
      "text/html": [
       "<div>\n",
       "<style scoped>\n",
       "    .dataframe tbody tr th:only-of-type {\n",
       "        vertical-align: middle;\n",
       "    }\n",
       "\n",
       "    .dataframe tbody tr th {\n",
       "        vertical-align: top;\n",
       "    }\n",
       "\n",
       "    .dataframe thead th {\n",
       "        text-align: right;\n",
       "    }\n",
       "</style>\n",
       "<table border=\"1\" class=\"dataframe\">\n",
       "  <thead>\n",
       "    <tr style=\"text-align: right;\">\n",
       "      <th></th>\n",
       "      <th>text</th>\n",
       "      <th>label</th>\n",
       "    </tr>\n",
       "  </thead>\n",
       "  <tbody>\n",
       "    <tr>\n",
       "      <th>0</th>\n",
       "      <td>I rented I AM CURIOUS-YELLOW from my video sto...</td>\n",
       "      <td>0</td>\n",
       "    </tr>\n",
       "    <tr>\n",
       "      <th>1</th>\n",
       "      <td>\"I Am Curious: Yellow\" is a risible and preten...</td>\n",
       "      <td>0</td>\n",
       "    </tr>\n",
       "    <tr>\n",
       "      <th>2</th>\n",
       "      <td>If only to avoid making this type of film in t...</td>\n",
       "      <td>0</td>\n",
       "    </tr>\n",
       "    <tr>\n",
       "      <th>3</th>\n",
       "      <td>This film was probably inspired by Godard's Ma...</td>\n",
       "      <td>0</td>\n",
       "    </tr>\n",
       "    <tr>\n",
       "      <th>4</th>\n",
       "      <td>Oh, brother...after hearing about this ridicul...</td>\n",
       "      <td>0</td>\n",
       "    </tr>\n",
       "    <tr>\n",
       "      <th>5</th>\n",
       "      <td>I would put this at the top of my list of film...</td>\n",
       "      <td>0</td>\n",
       "    </tr>\n",
       "    <tr>\n",
       "      <th>6</th>\n",
       "      <td>Whoever wrote the screenplay for this movie ob...</td>\n",
       "      <td>0</td>\n",
       "    </tr>\n",
       "    <tr>\n",
       "      <th>7</th>\n",
       "      <td>When I first saw a glimpse of this movie, I qu...</td>\n",
       "      <td>0</td>\n",
       "    </tr>\n",
       "    <tr>\n",
       "      <th>8</th>\n",
       "      <td>Who are these \"They\"- the actors? the filmmake...</td>\n",
       "      <td>0</td>\n",
       "    </tr>\n",
       "    <tr>\n",
       "      <th>9</th>\n",
       "      <td>This is said to be a personal film for Peter B...</td>\n",
       "      <td>0</td>\n",
       "    </tr>\n",
       "  </tbody>\n",
       "</table>\n",
       "</div>"
      ],
      "text/plain": [
       "                                                text  label\n",
       "0  I rented I AM CURIOUS-YELLOW from my video sto...      0\n",
       "1  \"I Am Curious: Yellow\" is a risible and preten...      0\n",
       "2  If only to avoid making this type of film in t...      0\n",
       "3  This film was probably inspired by Godard's Ma...      0\n",
       "4  Oh, brother...after hearing about this ridicul...      0\n",
       "5  I would put this at the top of my list of film...      0\n",
       "6  Whoever wrote the screenplay for this movie ob...      0\n",
       "7  When I first saw a glimpse of this movie, I qu...      0\n",
       "8  Who are these \"They\"- the actors? the filmmake...      0\n",
       "9  This is said to be a personal film for Peter B...      0"
      ]
     },
     "execution_count": 6,
     "metadata": {},
     "output_type": "execute_result"
    }
   ],
   "source": [
    "from pandas import DataFrame\n",
    "\n",
    "DataFrame(dataset[\"train\"].select(range(10)))"
   ]
  },
  {
   "cell_type": "code",
   "execution_count": 7,
   "id": "e4c43943-d8de-4b8f-a705-ad3e04134eb3",
   "metadata": {},
   "outputs": [],
   "source": [
    "from lora_peft.sequence_classification import (\n",
    "    get_model_trainer,\n",
    "    get_predictions,\n",
    "    load_peft_model_from_checkpoint,\n",
    "    load_tokenizer_from_checkpoint,\n",
    "    load_trainer_from_checkpoint\n",
    ")"
   ]
  },
  {
   "cell_type": "code",
   "execution_count": 8,
   "id": "fbc1e46c-bc11-4beb-a4dd-eae23efb32a5",
   "metadata": {},
   "outputs": [
    {
     "name": "stdout",
     "output_type": "stream",
     "text": [
      "The following packages are already present in the pyproject.toml and will be skipped:\n",
      "\n",
      "  - \u001b[36mseaborn\u001b[39m\n",
      "  - \u001b[36mmatplotlib\u001b[39m\n",
      "\n",
      "If you want to update it to the latest compatible version, you can use `poetry update package`.\n",
      "If you prefer to upgrade it to the latest available version, you can use `poetry add package@latest`.\n",
      "\n",
      "Nothing to add.\n"
     ]
    }
   ],
   "source": [
    "!poetry add seaborn matplotlib"
   ]
  },
  {
   "cell_type": "code",
   "execution_count": 9,
   "id": "2d016aef-8471-43f8-aee7-a2b5e7c37859",
   "metadata": {},
   "outputs": [],
   "source": [
    "import numpy as np\n",
    "from tqdm import tqdm\n",
    "from sklearn.metrics import classification_report, confusion_matrix\n",
    "import seaborn as sns\n",
    "import matplotlib.pyplot as plt"
   ]
  },
  {
   "cell_type": "code",
   "execution_count": 18,
   "id": "002c71a6-e97d-4b64-9f65-370a1edac61f",
   "metadata": {},
   "outputs": [],
   "source": [
    "from lora_peft.sequence_classification import get_tokenized_dataset\n",
    "\n",
    "id_to_label = {1: \"positive\", 0: \"negative\"}\n",
    "label_to_id = {val: key for key, val in id2label.items()}\n",
    "model_name = \"distilbert/distilgpt2\"\n",
    "\n",
    "splits = [\"train\", \"test\"]\n",
    "text_column_name = \"text\""
   ]
  },
  {
   "cell_type": "markdown",
   "id": "247d20e9-6b5b-4ea2-8735-5e3579fc6553",
   "metadata": {},
   "source": [
    "## **Evaluate the performance on the Baseline `distilbert/distilgpt2` Model**"
   ]
  },
  {
   "cell_type": "code",
   "execution_count": 19,
   "id": "ed5f677b-000a-4ebe-afc7-ae58cd3577a6",
   "metadata": {},
   "outputs": [
    {
     "name": "stderr",
     "output_type": "stream",
     "text": [
      "/Users/maheshbabugorantla/Library/Caches/pypoetry/virtualenvs/capstone-project-rG3xJhwz-py3.12/lib/python3.12/site-packages/transformers/training_args.py:1568: FutureWarning: `evaluation_strategy` is deprecated and will be removed in version 4.46 of 🤗 Transformers. Use `eval_strategy` instead\n",
      "  warnings.warn(\n"
     ]
    }
   ],
   "source": [
    "from lora_peft.sequence_classification import get_training_args\n",
    "baseline_training_args = get_training_args(output_dir=\"./distilbert_distilgpt2_baseline\")"
   ]
  },
  {
   "cell_type": "code",
   "execution_count": 21,
   "id": "e8ca4a14-7be7-44f3-864c-3c76c0ebadc9",
   "metadata": {},
   "outputs": [
    {
     "name": "stderr",
     "output_type": "stream",
     "text": [
      "Some weights of GPT2ForSequenceClassification were not initialized from the model checkpoint at distilbert/distilgpt2 and are newly initialized: ['score.weight']\n",
      "You should probably TRAIN this model on a down-stream task to be able to use it for predictions and inference.\n"
     ]
    },
    {
     "data": {
      "application/vnd.jupyter.widget-view+json": {
       "model_id": "70c7a462e5c54f29b4a35f3e695ac459",
       "version_major": 2,
       "version_minor": 0
      },
      "text/plain": [
       "Map:   0%|          | 0/25000 [00:00<?, ? examples/s]"
      ]
     },
     "metadata": {},
     "output_type": "display_data"
    },
    {
     "name": "stderr",
     "output_type": "stream",
     "text": [
      "/Users/maheshbabugorantla/Documents/Udacity_Nanodegree_Programs/Gen_AI/2_Gen_AI_Fundamentals/Capstone_Project/lora_peft/sequence_classification.py:256: FutureWarning: `tokenizer` is deprecated and will be removed in version 5.0.0 for `Trainer.__init__`. Use `processing_class` instead.\n",
      "  trainer = Trainer(\n"
     ]
    }
   ],
   "source": [
    "baseline_tokenizer, baseline_model = load_tokenizer_and_model(\n",
    "    model_name=model_name,\n",
    "    label2id=label_to_id,\n",
    "    id2label=id_to_label,\n",
    "    num_labels=len(label_to_id)\n",
    ")\n",
    "\n",
    "baseline_tokenized_dataset = get_tokenized_dataset(dataset, baseline_tokenizer, splits, text_column_name)\n",
    "\n",
    "baseline_trainer = get_model_trainer(\n",
    "    tokenizer=baseline_tokenizer,\n",
    "    model=baseline_model,\n",
    "    tokenized_datasets=baseline_tokenized_dataset,\n",
    "    training_args=baseline_training_args\n",
    ")"
   ]
  },
  {
   "cell_type": "code",
   "execution_count": 22,
   "id": "a1270933-766d-4f08-b2c5-290a4d8c85a4",
   "metadata": {},
   "outputs": [
    {
     "data": {
      "text/html": [],
      "text/plain": [
       "<IPython.core.display.HTML object>"
      ]
     },
     "metadata": {},
     "output_type": "display_data"
    }
   ],
   "source": [
    "baseline_model_review_classifications = get_predictions(baseline_tokenized_dataset[\"test\"], trainer=baseline_trainer, text_column_name=\"text\")"
   ]
  },
  {
   "cell_type": "code",
   "execution_count": 24,
   "id": "8001b912-4fdd-439e-8d81-e7ae965e77d6",
   "metadata": {},
   "outputs": [
    {
     "name": "stdout",
     "output_type": "stream",
     "text": [
      "Baseline Model 'distilbert/distilgpt2' Sequence Classification Accuracy on 'imdb' is 50.00%\n"
     ]
    }
   ],
   "source": [
    "# Calculate accuracy\n",
    "dataset_name = \"imdb\"\n",
    "baseline_model_classification_accuracy = (baseline_model_review_classifications[\"predictions\"] == baseline_model_review_classifications[\"labels\"]).mean()\n",
    "print(f\"Baseline Model '{model_name}' Sequence Classification Accuracy on '{dataset_name}' is {baseline_model_classification_accuracy:0.2%}\")"
   ]
  },
  {
   "cell_type": "markdown",
   "id": "56b67fb6-c8fe-4168-aa1e-14e95942be4c",
   "metadata": {},
   "source": [
    "## **Load the PEFT Model Fine-tuned on Apple MPS**"
   ]
  },
  {
   "cell_type": "code",
   "execution_count": 30,
   "id": "e7700e14-8e4e-470c-bb5e-ff1249a85c61",
   "metadata": {},
   "outputs": [],
   "source": [
    "from lora_peft.sequence_classification import PeftModel, load_peft_model_from_checkpoint, load_trainer_from_checkpoint\n",
    "output_dir = \"distilbert-distilgpt2-imdb-lora\""
   ]
  },
  {
   "cell_type": "code",
   "execution_count": 27,
   "id": "84f0fa74-4a51-4667-b629-87f1396ada45",
   "metadata": {},
   "outputs": [
    {
     "name": "stderr",
     "output_type": "stream",
     "text": [
      "Some weights of GPT2ForSequenceClassification were not initialized from the model checkpoint at distilbert/distilgpt2 and are newly initialized: ['score.weight']\n",
      "You should probably TRAIN this model on a down-stream task to be able to use it for predictions and inference.\n",
      "/Users/maheshbabugorantla/Library/Caches/pypoetry/virtualenvs/capstone-project-rG3xJhwz-py3.12/lib/python3.12/site-packages/transformers/training_args.py:1568: FutureWarning: `evaluation_strategy` is deprecated and will be removed in version 4.46 of 🤗 Transformers. Use `eval_strategy` instead\n",
      "  warnings.warn(\n",
      "/Users/maheshbabugorantla/Documents/Udacity_Nanodegree_Programs/Gen_AI/2_Gen_AI_Fundamentals/Capstone_Project/lora_peft/sequence_classification.py:256: FutureWarning: `tokenizer` is deprecated and will be removed in version 5.0.0 for `Trainer.__init__`. Use `processing_class` instead.\n",
      "  trainer = Trainer(\n"
     ]
    }
   ],
   "source": [
    "new_tokenizer, lora_ft_model, lora_ft_training_args, lora_trainer = load_trainer_from_checkpoint(\n",
    "    output_dir=\"distilbert-distilgpt2-imdb-lora\", tokenized_datasets=baseline_tokenized_dataset, id_to_label=id_to_label, label_to_id=label_to_id\n",
    ")"
   ]
  },
  {
   "cell_type": "code",
   "execution_count": 28,
   "id": "388c7c1a-3e01-44b6-aa92-3fbe9a73976e",
   "metadata": {},
   "outputs": [
    {
     "data": {
      "text/html": [],
      "text/plain": [
       "<IPython.core.display.HTML object>"
      ]
     },
     "metadata": {},
     "output_type": "display_data"
    }
   ],
   "source": [
    "finetuned_model_review_classifications = get_predictions(baseline_tokenized_dataset[\"test\"], trainer=lora_trainer, text_column_name=\"text\")"
   ]
  },
  {
   "cell_type": "code",
   "execution_count": 31,
   "id": "e980436b-50d9-44b3-916d-4a91d3df78ba",
   "metadata": {},
   "outputs": [
    {
     "name": "stdout",
     "output_type": "stream",
     "text": [
      "LoRA Finetuned Model 'distilbert-distilgpt2-imdb-lora' Sequence Classification Accuracy on 'imdb' is 55.76%\n"
     ]
    }
   ],
   "source": [
    "# Calculate accuracy\n",
    "lora_finetuned_model_classification_accuracy = (finetuned_model_review_classifications[\"predictions\"] == finetuned_model_review_classifications[\"labels\"]).mean()\n",
    "print(f\"LoRA Finetuned Model '{output_dir}' Sequence Classification Accuracy on '{dataset_name}' is {lora_finetuned_model_classification_accuracy:0.2%}\")"
   ]
  },
  {
   "cell_type": "markdown",
   "id": "61d80bfd-db5f-4ddb-8e07-d8fd84643475",
   "metadata": {},
   "source": [
    "### **Load the PEFT Model Fine-tuned on Nvidia CUDA GPU**"
   ]
  },
  {
   "cell_type": "code",
   "execution_count": 33,
   "id": "ef42a63b-e3d0-487a-b2a5-bb445c83e9bf",
   "metadata": {},
   "outputs": [
    {
     "name": "stderr",
     "output_type": "stream",
     "text": [
      "Some weights of GPT2ForSequenceClassification were not initialized from the model checkpoint at distilbert/distilgpt2 and are newly initialized: ['score.weight']\n",
      "You should probably TRAIN this model on a down-stream task to be able to use it for predictions and inference.\n",
      "/Users/maheshbabugorantla/Library/Caches/pypoetry/virtualenvs/capstone-project-rG3xJhwz-py3.12/lib/python3.12/site-packages/transformers/training_args.py:1568: FutureWarning: `evaluation_strategy` is deprecated and will be removed in version 4.46 of 🤗 Transformers. Use `eval_strategy` instead\n",
      "  warnings.warn(\n",
      "/Users/maheshbabugorantla/Documents/Udacity_Nanodegree_Programs/Gen_AI/2_Gen_AI_Fundamentals/Capstone_Project/lora_peft/sequence_classification.py:256: FutureWarning: `tokenizer` is deprecated and will be removed in version 5.0.0 for `Trainer.__init__`. Use `processing_class` instead.\n",
      "  trainer = Trainer(\n"
     ]
    }
   ],
   "source": [
    "output_dir = \"submission/distilgpt2-imdb-lora\"\n",
    "new_tokenizer, lora_ft_model, lora_ft_training_args, lora_trainer = load_trainer_from_checkpoint(\n",
    "    output_dir=output_dir, tokenized_datasets=baseline_tokenized_dataset, id_to_label=id_to_label, label_to_id=label_to_id\n",
    ")"
   ]
  },
  {
   "cell_type": "code",
   "execution_count": 34,
   "id": "472437d6-09dd-4529-a246-5ea04bd99432",
   "metadata": {},
   "outputs": [
    {
     "data": {
      "text/html": [],
      "text/plain": [
       "<IPython.core.display.HTML object>"
      ]
     },
     "metadata": {},
     "output_type": "display_data"
    }
   ],
   "source": [
    "finetuned_model_review_classifications = get_predictions(baseline_tokenized_dataset[\"test\"], trainer=lora_trainer, text_column_name=\"text\")"
   ]
  },
  {
   "cell_type": "code",
   "execution_count": 35,
   "id": "dd957012-d6f3-4872-89bb-3a46bb7cb19f",
   "metadata": {},
   "outputs": [
    {
     "name": "stdout",
     "output_type": "stream",
     "text": [
      "LoRA Finetuned Model 'submission/distilgpt2-imdb-lora' Sequence Classification Accuracy on 'imdb' is 85.20%\n"
     ]
    }
   ],
   "source": [
    "# Calculate accuracy\n",
    "lora_finetuned_model_classification_accuracy = (finetuned_model_review_classifications[\"predictions\"] == finetuned_model_review_classifications[\"labels\"]).mean()\n",
    "print(f\"LoRA Finetuned Model '{output_dir}' Sequence Classification Accuracy on '{dataset_name}' is {lora_finetuned_model_classification_accuracy:0.2%}\")"
   ]
  },
  {
   "cell_type": "markdown",
   "id": "a6eb32c2-0404-4dd2-8762-e94c9795a75f",
   "metadata": {},
   "source": [
    "### **Inference of Results**\n",
    "\n",
    "Despite using `fp32` on Apple MPS (due to the lack of support for mixed precision from `TrainingArguments`), the fine-tuned model significantly underperformed ($55.76\\%$) when compared with the model fine-tuned on Nvidia CUDA GPU with `fp16` enabled ($85.20\\%$)\n",
    "\n",
    "The fine-tuning on Nvidia GPU with mixed precision computation (`fp16`) enabled, made use of the available Tensor Cores leading to stable gradient accumulation.\n",
    "\n",
    "It is also quite possible that the differences in the backend used for matrix math will have significantly modified the behavior of learning rate scheduler and optimizers because\n",
    "\n",
    "1. **Order of operations**: Floating-point arithmetic is non-associative i.e. $a + (b + c) \\neq (a + b) + c$ where $a$, $b$ and $c$ are floating-point numbers.\n",
    "2. **Reduction operations**: Operations like summing gradients across dimensions or batches can produce different results depending on the algorithm used (tree-based summation, parallelization strategies, etc.).\n",
    "\n",
    "Example:\n",
    "Suppose we compute the sum of gradients:\n",
    "\n",
    "$$Sum = g_1 + g_2 + .... + g_n$$\n",
    " \n",
    "CUDA and MPS may parallelize the computation differently, introducing small numerical discrepancies. Over many iterations, these discrepancies compound, leading to different convergence behaviors.\n",
    "\n",
    "### **Why a batch size of 2 is chosen while fine-tuning model ?**\n",
    "\n",
    "Due to lack of `FP16` support on Apple MPS, `FP32` training had to be used. This lead to more memory consumption, forcing a smaller batch size compared to CUDA's FP16 training.\n",
    "\n",
    "**Mathematically**:\n",
    "With smaller batch sizes $B$, gradients are noisier:\n",
    "\n",
    "$$\\nabla_{\\theta_t} L = \\frac{1}{B} \\sum_{i=1}^{B} \\nabla_{\\theta_t} L_i$$\n",
    "\n",
    "Noisier gradients lead to less stable updates, which can affect how the learning rate interacts with the optimization process.\n",
    "\n",
    "**More Mathematical Context** for why the gradients are noisier for smaller batch sizes\n",
    "\n",
    "In stochastic gradient descent (SGD), the gradient $\\nabla_{\\theta} L$ is computed as an average over the batch:\n",
    "\n",
    "The true gradient of the entire dataset is:\n",
    "\n",
    "$$\\nabla_{\\theta} L_{\\text{true}} = \\mathbb{E}[\\nabla_{\\theta} L_i]$$\n",
    "\n",
    "But in practice, we approximate it using a batch. Smaller batch sizes result in a less accurate approximation because the variance of the estimate increases.\n",
    "\n",
    "### Understanding Gradient Variance\n",
    "\n",
    "Let’s calculate the variance of the batch gradient:\n",
    "\n",
    "$$\\text{Var}\\left(\\nabla_{\\theta} L\\right) = \\text{Var}\\left(\\frac{1}{B} \\sum_{i=1}^{B} \\nabla_{\\theta} L_i\\right)$$\n",
    "\n",
    "Assuming:\n",
    "1. Gradients ($\\nabla_{\\theta} L_i$) are **independent and identically distributed (i.i.d.)**.\n",
    "2. Variance of the individual gradient is ($\\sigma^2$).\n",
    "\n",
    "The variance of the batch gradient is:\n",
    "\n",
    "$$\\text{Var}\\left(\\nabla_{\\theta} L\\right) = \\frac{1}{B^2} \\sum_{i=1}^{B} \\text{Var}\\left(\\nabla_{\\theta} L_i\\right)$$\n",
    "\n",
    "Since all ($\\nabla_{\\theta} L_i$) have the same variance ($\\sigma^2$):\n",
    "\n",
    "$$\\text{Var}\\left(\\nabla_{\\theta} L\\right) = \\frac{1}{B^2} \\cdot B \\cdot \\sigma^2 = \\frac{\\sigma^2}{B}$$\n",
    "\n",
    "From the above equations, we can infer that\n",
    "\n",
    "* The variance of the batch gradient is inversely proportional to the batch size $B$\n",
    "* Smaller $B$ leads to larger variance, which means noisier gradients\n",
    "\n",
    "For example:\n",
    "\n",
    "* For $B = 2$, $Var = \\sigma^2/2$\n",
    "* For $B = 10$, $Var = \\sigma^2/10$\n",
    "\n",
    "Smaller batches produce more variation in the gradient estimation, making the optimization process less stable."
   ]
  },
  {
   "cell_type": "code",
   "execution_count": 36,
   "id": "f756cdab-2213-4f38-99a9-5614d0b33837",
   "metadata": {},
   "outputs": [
    {
     "name": "stderr",
     "output_type": "stream",
     "text": [
      "huggingface/tokenizers: The current process just got forked, after parallelism has already been used. Disabling parallelism to avoid deadlocks...\n",
      "To disable this warning, you can either:\n",
      "\t- Avoid using `tokenizers` before the fork if possible\n",
      "\t- Explicitly set the environment variable TOKENIZERS_PARALLELISM=(true | false)\n"
     ]
    },
    {
     "name": "stdout",
     "output_type": "stream",
     "text": [
      "The following packages are already present in the pyproject.toml and will be skipped:\n",
      "\n",
      "  - \u001b[36mscikit-learn\u001b[39m\n",
      "  - \u001b[36mseaborn\u001b[39m\n",
      "  - \u001b[36mmatplotlib\u001b[39m\n",
      "\n",
      "If you want to update it to the latest compatible version, you can use `poetry update package`.\n",
      "If you prefer to upgrade it to the latest available version, you can use `poetry add package@latest`.\n",
      "\n",
      "Nothing to add.\n"
     ]
    }
   ],
   "source": [
    "!poetry add scikit-learn seaborn matplotlib"
   ]
  },
  {
   "cell_type": "code",
   "execution_count": 39,
   "id": "34cc8aee-9f6a-4d2a-bc6a-7755419dde97",
   "metadata": {},
   "outputs": [],
   "source": [
    "from typing import Dict, Any\n",
    "from sklearn.metrics import classification_report, confusion_matrix\n",
    "import seaborn as sns\n",
    "import matplotlib.pyplot as plt\n",
    "from pandas import DataFrame\n",
    "\n",
    "\n",
    "def evaluate_predictions(predictions_df: DataFrame, label2id: Dict[str, int]) -> None:\n",
    "    # Calculate classification report\n",
    "    report = classification_report(\n",
    "        predictions_df[\"labels\"],\n",
    "        predictions_df[\"predictions\"],\n",
    "        target_names=list(label2id.keys()),\n",
    "        digits=4\n",
    "    )\n",
    "    \n",
    "    # Calculate confusion matrix\n",
    "    cm = confusion_matrix(predictions_df[\"labels\"], predictions_df[\"predictions\"])\n",
    "    \n",
    "    # Print classification report\n",
    "    print(\"Classification Report:\")\n",
    "    print(report)\n",
    "    \n",
    "    # Plot confusion matrix\n",
    "    plt.figure(figsize=(10, 8))\n",
    "    sns.heatmap(\n",
    "        cm,\n",
    "        annot=True,\n",
    "        fmt='d',\n",
    "        cmap='Blues',\n",
    "        xticklabels=list(label2id.keys()),\n",
    "        yticklabels=list(label2id.keys())\n",
    "    )\n",
    "    plt.title('Confusion Matrix')\n",
    "    plt.ylabel('True Label')\n",
    "    plt.xlabel('Predicted Label')\n",
    "    plt.tight_layout()\n",
    "    plt.show()"
   ]
  },
  {
   "cell_type": "code",
   "execution_count": 40,
   "id": "3730de81-c979-47bc-ad9a-2a57ad2fefb0",
   "metadata": {},
   "outputs": [
    {
     "name": "stdout",
     "output_type": "stream",
     "text": [
      "Classification Report:\n",
      "              precision    recall  f1-score   support\n",
      "\n",
      "    positive     0.5000    0.9995    0.6666     12500\n",
      "    negative     0.5385    0.0006    0.0011     12500\n",
      "\n",
      "    accuracy                         0.5000     25000\n",
      "   macro avg     0.5192    0.5000    0.3338     25000\n",
      "weighted avg     0.5192    0.5000    0.3338     25000\n",
      "\n"
     ]
    },
    {
     "data": {
      "image/png": "[encoded data removed]",
      "text/plain": [
       "<Figure size 1000x800 with 2 Axes>"
      ]
     },
     "metadata": {},
     "output_type": "display_data"
    }
   ],
   "source": [
    "evaluate_predictions(predictions_df=baseline_model_review_classifications, label2id=label_to_id)"
   ]
  },
  {
   "cell_type": "code",
   "execution_count": 41,
   "id": "e39b92f0-01c5-4eec-b36b-64768d13da75",
   "metadata": {},
   "outputs": [
    {
     "name": "stdout",
     "output_type": "stream",
     "text": [
      "Classification Report:\n",
      "              precision    recall  f1-score   support\n",
      "\n",
      "    positive     0.8529    0.8508    0.8519     12500\n",
      "    negative     0.8512    0.8533    0.8522     12500\n",
      "\n",
      "    accuracy                         0.8520     25000\n",
      "   macro avg     0.8520    0.8520    0.8520     25000\n",
      "weighted avg     0.8520    0.8520    0.8520     25000\n",
      "\n"
     ]
    },
    {
     "data": {
      "image/png": "[encoded data removed]",
      "text/plain": [
       "<Figure size 1000x800 with 2 Axes>"
      ]
     },
     "metadata": {},
     "output_type": "display_data"
    }
   ],
   "source": [
    "evaluate_predictions(predictions_df=finetuned_model_review_classifications, label2id=label_to_id)"
   ]
  },
  {
   "cell_type": "code",
   "execution_count": null,
   "id": "a5c68a0e-abb7-48d8-9756-146e2d264d7d",
   "metadata": {},
   "outputs": [],
   "source": []
  }
 ],
 "metadata": {
  "kernelspec": {
   "display_name": "Python 3 (ipykernel)",
   "language": "python",
   "name": "python3"
  },
  "language_info": {
   "codemirror_mode": {
    "name": "ipython",
    "version": 3
   },
   "file_extension": ".py",
   "mimetype": "text/x-python",
   "name": "python",
   "nbconvert_exporter": "python",
   "pygments_lexer": "ipython3",
   "version": "3.12.3"
  }
 },
 "nbformat": 4,
 "nbformat_minor": 5
}
